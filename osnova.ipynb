{
 "cells": [
  {
   "cell_type": "code",
   "id": "initial_id",
   "metadata": {
    "collapsed": true,
    "ExecuteTime": {
     "end_time": "2024-10-18T09:31:35.954624Z",
     "start_time": "2024-10-18T09:31:35.933428Z"
    }
   },
   "source": [
    "import pandas as pd\n",
    "import seaborn as sns\n",
    "import matplotlib.pyplot as plt\n",
    "from mistune.plugins.formatting import insert\n",
    "\n",
    "from sklearn.model_selection import train_test_split\n",
    "from sklearn.linear_model import LogisticRegression"
   ],
   "outputs": [],
   "execution_count": 165
  },
  {
   "metadata": {
    "ExecuteTime": {
     "end_time": "2024-10-18T09:31:37.500667Z",
     "start_time": "2024-10-18T09:31:37.494175Z"
    }
   },
   "cell_type": "code",
   "source": "import causalml",
   "id": "8f04dcbb92aff49e",
   "outputs": [],
   "execution_count": 166
  },
  {
   "metadata": {
    "ExecuteTime": {
     "end_time": "2024-10-18T09:31:38.375386Z",
     "start_time": "2024-10-18T09:31:38.371228Z"
    }
   },
   "cell_type": "code",
   "source": "import numpy as np",
   "id": "41d56da316cf2440",
   "outputs": [],
   "execution_count": 167
  },
  {
   "metadata": {
    "ExecuteTime": {
     "end_time": "2024-10-18T09:31:39.213307Z",
     "start_time": "2024-10-18T09:31:39.206117Z"
    }
   },
   "cell_type": "code",
   "source": "np.version.version",
   "id": "9343ea1c5128abf7",
   "outputs": [
    {
     "data": {
      "text/plain": [
       "'1.26.4'"
      ]
     },
     "execution_count": 168,
     "metadata": {},
     "output_type": "execute_result"
    }
   ],
   "execution_count": 168
  },
  {
   "metadata": {
    "ExecuteTime": {
     "end_time": "2024-10-18T09:31:48.143456Z",
     "start_time": "2024-10-18T09:31:41.527652Z"
    }
   },
   "cell_type": "code",
   "source": "bd = pd.read_csv('train.csv')",
   "id": "46362bacab3306df",
   "outputs": [],
   "execution_count": 169
  },
  {
   "metadata": {
    "ExecuteTime": {
     "end_time": "2024-10-18T09:31:54.349875Z",
     "start_time": "2024-10-18T09:31:54.250930Z"
    }
   },
   "cell_type": "code",
   "source": [
    "from sklearn.preprocessing import OrdinalEncoder\n",
    "\n",
    "ord_enc = OrdinalEncoder()\n",
    "bd[\"cc_4_OrdinalEncoder\"] = ord_enc.fit_transform(bd[[\"cc_4\"]])"
   ],
   "id": "2fccb2ade2daf1f2",
   "outputs": [],
   "execution_count": 170
  },
  {
   "metadata": {
    "ExecuteTime": {
     "end_time": "2024-10-18T09:31:55.330933Z",
     "start_time": "2024-10-18T09:31:55.246811Z"
    }
   },
   "cell_type": "code",
   "source": [
    "ord_enc = OrdinalEncoder()\n",
    "bd[\"cc_2_OrdinalEncoder\"] = ord_enc.fit_transform(bd[[\"cc_2\"]])"
   ],
   "id": "9d4123ea555e81ec",
   "outputs": [],
   "execution_count": 171
  },
  {
   "metadata": {
    "ExecuteTime": {
     "end_time": "2024-10-18T09:31:56.194379Z",
     "start_time": "2024-10-18T09:31:56.072993Z"
    }
   },
   "cell_type": "code",
   "source": [
    "ord_enc = OrdinalEncoder()\n",
    "bd[\"cc_6_OrdinalEncoder\"] = ord_enc.fit_transform(bd[[\"cc_6\"]])"
   ],
   "id": "52e5ccf041ce15ed",
   "outputs": [],
   "execution_count": 172
  },
  {
   "metadata": {
    "ExecuteTime": {
     "end_time": "2024-10-18T09:31:58.112753Z",
     "start_time": "2024-10-18T09:31:58.056546Z"
    }
   },
   "cell_type": "code",
   "source": "bd['retro_date'] = pd.to_datetime(bd['retro_date'])",
   "id": "dfd234eb994e6ab5",
   "outputs": [],
   "execution_count": 173
  },
  {
   "metadata": {
    "ExecuteTime": {
     "end_time": "2024-10-18T09:31:59.310145Z",
     "start_time": "2024-10-18T09:31:59.065822Z"
    }
   },
   "cell_type": "code",
   "source": "df = bd.drop(['cc_2', 'cc_4', 'cc_6'], axis=1)",
   "id": "424a90b315f038f9",
   "outputs": [],
   "execution_count": 174
  },
  {
   "metadata": {
    "ExecuteTime": {
     "end_time": "2024-10-18T09:32:01.568903Z",
     "start_time": "2024-10-18T09:32:00.110547Z"
    }
   },
   "cell_type": "code",
   "source": "test = pd.read_csv('test.csv')",
   "id": "3cc9eca0e2927dd2",
   "outputs": [],
   "execution_count": 175
  },
  {
   "metadata": {
    "ExecuteTime": {
     "end_time": "2024-10-18T09:32:02.776230Z",
     "start_time": "2024-10-18T09:32:02.558775Z"
    }
   },
   "cell_type": "code",
   "source": [
    "ord_enc = OrdinalEncoder()\n",
    "test[\"cc_4_OrdinalEncoder\"] = ord_enc.fit_transform(test[[\"cc_4\"]])\n",
    "ord_enc = OrdinalEncoder()\n",
    "test[\"cc_2_OrdinalEncoder\"] = ord_enc.fit_transform(test[[\"cc_2\"]])\n",
    "ord_enc = OrdinalEncoder()\n",
    "test[\"cc_6_OrdinalEncoder\"] = ord_enc.fit_transform(test[[\"cc_6\"]])\n",
    "test.drop('retro_date', axis=1, inplace=True)\n",
    "test.drop('cc_2', axis=1, inplace=True)\n",
    "test.drop('cc_4', axis=1, inplace=True)\n",
    "test.drop('cc_6', axis=1, inplace=True)"
   ],
   "id": "1baeb43bca9e84ef",
   "outputs": [],
   "execution_count": 176
  },
  {
   "metadata": {
    "ExecuteTime": {
     "end_time": "2024-10-18T09:32:07.527519Z",
     "start_time": "2024-10-18T09:32:07.280612Z"
    }
   },
   "cell_type": "code",
   "source": [
    "X_train = df.drop(columns = 'successful_utilization', axis=1)\n",
    "y_train = df.successful_utilization\n",
    "X_test = test"
   ],
   "id": "3788617a274ac8bf",
   "outputs": [],
   "execution_count": 177
  },
  {
   "metadata": {
    "ExecuteTime": {
     "end_time": "2024-10-18T09:32:11.993242Z",
     "start_time": "2024-10-18T09:32:11.720082Z"
    }
   },
   "cell_type": "code",
   "source": "X_train.drop('retro_date', axis=1, inplace=True)",
   "id": "20969515ff7b5b7a",
   "outputs": [],
   "execution_count": 178
  },
  {
   "metadata": {
    "ExecuteTime": {
     "end_time": "2024-10-18T09:32:13.533462Z",
     "start_time": "2024-10-18T09:32:13.529214Z"
    }
   },
   "cell_type": "code",
   "source": "X = X_train",
   "id": "81354f1082cad3f6",
   "outputs": [],
   "execution_count": 179
  },
  {
   "metadata": {
    "ExecuteTime": {
     "end_time": "2024-10-18T09:33:06.397925Z",
     "start_time": "2024-10-18T09:32:14.294801Z"
    }
   },
   "cell_type": "code",
   "source": [
    "from sklearn.cluster import KMeans\n",
    "from sklearn.preprocessing import StandardScaler\n",
    "\n",
    "# Заполняем пропуски временно средними значениями для работы K-means\n",
    "df_filled = X.fillna(X.mean())\n",
    "\n",
    "# Стандартизация данных (нормализация)\n",
    "scaler = StandardScaler()\n",
    "df_scaled = scaler.fit_transform(df_filled)\n",
    "\n",
    "# Применяем KMeans с заданным числом кластеров (например, 3)\n",
    "kmeans = KMeans(n_clusters=3, random_state=42)\n",
    "clusters = kmeans.fit_predict(df_scaled)\n",
    "\n",
    "# Добавляем колонки с кластерами в DataFrame\n",
    "X['Cluster'] = clusters\n",
    "\n",
    "# Заполнение пропусков по кластерам\n",
    "for column in X.columns[:-1]:  # Пропускаем столбец с кластерами\n",
    "    for cluster in range(kmeans.n_clusters):\n",
    "        # Вычисляем среднее значение признака в пределах кластера\n",
    "        cluster_mean = X[X['Cluster'] == cluster][column].mean()\n",
    "        \n",
    "        # Заполняем пропуски средним значением кластера\n",
    "        X.loc[(X[column].isnull()) & (X['Cluster'] == cluster), column] = cluster_mean\n",
    "\n",
    "# Удаляем временный столбец с кластерами\n",
    "X.drop(columns=['Cluster'], inplace=True)"
   ],
   "id": "89a0d7406a0bbf95",
   "outputs": [
    {
     "name": "stderr",
     "output_type": "stream",
     "text": [
      "/var/folders/85/nvry22pd6nx6pfd1c1h6z_nr0000gp/T/ipykernel_88883/2726911761.py:25: FutureWarning: Setting an item of incompatible dtype is deprecated and will raise an error in a future version of pandas. Value '0.16471183866340394' has dtype incompatible with int64, please explicitly cast to a compatible dtype first.\n",
      "  X.loc[(X[column].isnull()) & (X['Cluster'] == cluster), column] = cluster_mean\n",
      "/var/folders/85/nvry22pd6nx6pfd1c1h6z_nr0000gp/T/ipykernel_88883/2726911761.py:25: FutureWarning: Setting an item of incompatible dtype is deprecated and will raise an error in a future version of pandas. Value '86.79731668213653' has dtype incompatible with int64, please explicitly cast to a compatible dtype first.\n",
      "  X.loc[(X[column].isnull()) & (X['Cluster'] == cluster), column] = cluster_mean\n",
      "/var/folders/85/nvry22pd6nx6pfd1c1h6z_nr0000gp/T/ipykernel_88883/2726911761.py:25: FutureWarning: Setting an item of incompatible dtype is deprecated and will raise an error in a future version of pandas. Value '0.5494473040249768' has dtype incompatible with int64, please explicitly cast to a compatible dtype first.\n",
      "  X.loc[(X[column].isnull()) & (X['Cluster'] == cluster), column] = cluster_mean\n",
      "/var/folders/85/nvry22pd6nx6pfd1c1h6z_nr0000gp/T/ipykernel_88883/2726911761.py:25: FutureWarning: Setting an item of incompatible dtype is deprecated and will raise an error in a future version of pandas. Value '0.16994346468652435' has dtype incompatible with int64, please explicitly cast to a compatible dtype first.\n",
      "  X.loc[(X[column].isnull()) & (X['Cluster'] == cluster), column] = cluster_mean\n",
      "/var/folders/85/nvry22pd6nx6pfd1c1h6z_nr0000gp/T/ipykernel_88883/2726911761.py:25: FutureWarning: Setting an item of incompatible dtype is deprecated and will raise an error in a future version of pandas. Value '0.5494473040249768' has dtype incompatible with int64, please explicitly cast to a compatible dtype first.\n",
      "  X.loc[(X[column].isnull()) & (X['Cluster'] == cluster), column] = cluster_mean\n",
      "/var/folders/85/nvry22pd6nx6pfd1c1h6z_nr0000gp/T/ipykernel_88883/2726911761.py:25: FutureWarning: Setting an item of incompatible dtype is deprecated and will raise an error in a future version of pandas. Value '0.1357691334064636' has dtype incompatible with int64, please explicitly cast to a compatible dtype first.\n",
      "  X.loc[(X[column].isnull()) & (X['Cluster'] == cluster), column] = cluster_mean\n",
      "/var/folders/85/nvry22pd6nx6pfd1c1h6z_nr0000gp/T/ipykernel_88883/2726911761.py:25: FutureWarning: Setting an item of incompatible dtype is deprecated and will raise an error in a future version of pandas. Value '715.4766264450258' has dtype incompatible with int64, please explicitly cast to a compatible dtype first.\n",
      "  X.loc[(X[column].isnull()) & (X['Cluster'] == cluster), column] = cluster_mean\n",
      "/var/folders/85/nvry22pd6nx6pfd1c1h6z_nr0000gp/T/ipykernel_88883/2726911761.py:25: FutureWarning: Setting an item of incompatible dtype is deprecated and will raise an error in a future version of pandas. Value '0.8129271791410008' has dtype incompatible with int64, please explicitly cast to a compatible dtype first.\n",
      "  X.loc[(X[column].isnull()) & (X['Cluster'] == cluster), column] = cluster_mean\n",
      "/var/folders/85/nvry22pd6nx6pfd1c1h6z_nr0000gp/T/ipykernel_88883/2726911761.py:25: FutureWarning: Setting an item of incompatible dtype is deprecated and will raise an error in a future version of pandas. Value '4.86081343346553' has dtype incompatible with int64, please explicitly cast to a compatible dtype first.\n",
      "  X.loc[(X[column].isnull()) & (X['Cluster'] == cluster), column] = cluster_mean\n",
      "/var/folders/85/nvry22pd6nx6pfd1c1h6z_nr0000gp/T/ipykernel_88883/2726911761.py:25: FutureWarning: Setting an item of incompatible dtype is deprecated and will raise an error in a future version of pandas. Value '86.79731668213653' has dtype incompatible with int64, please explicitly cast to a compatible dtype first.\n",
      "  X.loc[(X[column].isnull()) & (X['Cluster'] == cluster), column] = cluster_mean\n",
      "/var/folders/85/nvry22pd6nx6pfd1c1h6z_nr0000gp/T/ipykernel_88883/2726911761.py:25: FutureWarning: Setting an item of incompatible dtype is deprecated and will raise an error in a future version of pandas. Value '3.822209096278795' has dtype incompatible with int64, please explicitly cast to a compatible dtype first.\n",
      "  X.loc[(X[column].isnull()) & (X['Cluster'] == cluster), column] = cluster_mean\n",
      "/var/folders/85/nvry22pd6nx6pfd1c1h6z_nr0000gp/T/ipykernel_88883/2726911761.py:25: FutureWarning: Setting an item of incompatible dtype is deprecated and will raise an error in a future version of pandas. Value '0.0028689562062273227' has dtype incompatible with int64, please explicitly cast to a compatible dtype first.\n",
      "  X.loc[(X[column].isnull()) & (X['Cluster'] == cluster), column] = cluster_mean\n",
      "/var/folders/85/nvry22pd6nx6pfd1c1h6z_nr0000gp/T/ipykernel_88883/2726911761.py:25: FutureWarning: Setting an item of incompatible dtype is deprecated and will raise an error in a future version of pandas. Value '1.1531094422411612' has dtype incompatible with int64, please explicitly cast to a compatible dtype first.\n",
      "  X.loc[(X[column].isnull()) & (X['Cluster'] == cluster), column] = cluster_mean\n",
      "/var/folders/85/nvry22pd6nx6pfd1c1h6z_nr0000gp/T/ipykernel_88883/2726911761.py:25: FutureWarning: Setting an item of incompatible dtype is deprecated and will raise an error in a future version of pandas. Value '1.2047928444856975' has dtype incompatible with int64, please explicitly cast to a compatible dtype first.\n",
      "  X.loc[(X[column].isnull()) & (X['Cluster'] == cluster), column] = cluster_mean\n",
      "/var/folders/85/nvry22pd6nx6pfd1c1h6z_nr0000gp/T/ipykernel_88883/2726911761.py:25: FutureWarning: Setting an item of incompatible dtype is deprecated and will raise an error in a future version of pandas. Value '1.319044806345456' has dtype incompatible with int64, please explicitly cast to a compatible dtype first.\n",
      "  X.loc[(X[column].isnull()) & (X['Cluster'] == cluster), column] = cluster_mean\n",
      "/var/folders/85/nvry22pd6nx6pfd1c1h6z_nr0000gp/T/ipykernel_88883/2726911761.py:25: FutureWarning: Setting an item of incompatible dtype is deprecated and will raise an error in a future version of pandas. Value '0.9546873681545861' has dtype incompatible with int64, please explicitly cast to a compatible dtype first.\n",
      "  X.loc[(X[column].isnull()) & (X['Cluster'] == cluster), column] = cluster_mean\n"
     ]
    }
   ],
   "execution_count": 180
  },
  {
   "metadata": {
    "ExecuteTime": {
     "end_time": "2024-10-18T09:33:52.291117Z",
     "start_time": "2024-10-18T09:33:51.575075Z"
    }
   },
   "cell_type": "code",
   "source": [
    "X['Treatment'] = X['treatment']\n",
    "X.drop('treatment', axis=1, inplace=True)\n",
    "X['treatment'] = X['Treatment'].rename('treatment')\n",
    "X.drop('Treatment', axis=1, inplace=True)"
   ],
   "id": "f8cee58b96cc99e",
   "outputs": [],
   "execution_count": 181
  },
  {
   "metadata": {
    "ExecuteTime": {
     "end_time": "2024-10-18T09:34:06.485601Z",
     "start_time": "2024-10-18T09:33:53.405650Z"
    }
   },
   "cell_type": "code",
   "source": [
    "# Заполняем пропуски временно средними значениями для работы K-means\n",
    "df_filled = test.fillna(test.mean())\n",
    "\n",
    "# Стандартизация данных (нормализация)\n",
    "scaler = StandardScaler()\n",
    "df_scaled = scaler.fit_transform(df_filled)\n",
    "\n",
    "# Применяем KMeans с заданным числом кластеров (например, 3)\n",
    "kmeans = KMeans(n_clusters=3, random_state=42)\n",
    "clusters = kmeans.fit_predict(df_scaled)\n",
    "\n",
    "# Добавляем колонки с кластерами в DataFrame\n",
    "test['Cluster'] = clusters\n",
    "\n",
    "# Заполнение пропусков по кластерам\n",
    "for column in test.columns[:-1]:  # Пропускаем столбец с кластерами\n",
    "    for cluster in range(kmeans.n_clusters):\n",
    "        # Вычисляем среднее значение признака в пределах кластера\n",
    "        cluster_mean = test[test['Cluster'] == cluster][column].mean()\n",
    "        \n",
    "        # Заполняем пропуски средним значением кластера\n",
    "        test.loc[(test[column].isnull()) & (test['Cluster'] == cluster), column] = cluster_mean\n",
    "\n",
    "# Удаляем временный столбец с кластерами\n",
    "test.drop(columns=['Cluster'], inplace=True)"
   ],
   "id": "4a2e15c7e0fe57de",
   "outputs": [
    {
     "name": "stderr",
     "output_type": "stream",
     "text": [
      "/var/folders/85/nvry22pd6nx6pfd1c1h6z_nr0000gp/T/ipykernel_88883/1719971307.py:22: FutureWarning: Setting an item of incompatible dtype is deprecated and will raise an error in a future version of pandas. Value '0.05265125220270198' has dtype incompatible with int64, please explicitly cast to a compatible dtype first.\n",
      "  test.loc[(test[column].isnull()) & (test['Cluster'] == cluster), column] = cluster_mean\n",
      "/var/folders/85/nvry22pd6nx6pfd1c1h6z_nr0000gp/T/ipykernel_88883/1719971307.py:22: FutureWarning: Setting an item of incompatible dtype is deprecated and will raise an error in a future version of pandas. Value '602.9572275324398' has dtype incompatible with int64, please explicitly cast to a compatible dtype first.\n",
      "  test.loc[(test[column].isnull()) & (test['Cluster'] == cluster), column] = cluster_mean\n",
      "/var/folders/85/nvry22pd6nx6pfd1c1h6z_nr0000gp/T/ipykernel_88883/1719971307.py:22: FutureWarning: Setting an item of incompatible dtype is deprecated and will raise an error in a future version of pandas. Value '0.4945266193196988' has dtype incompatible with int64, please explicitly cast to a compatible dtype first.\n",
      "  test.loc[(test[column].isnull()) & (test['Cluster'] == cluster), column] = cluster_mean\n",
      "/var/folders/85/nvry22pd6nx6pfd1c1h6z_nr0000gp/T/ipykernel_88883/1719971307.py:22: FutureWarning: Setting an item of incompatible dtype is deprecated and will raise an error in a future version of pandas. Value '0.007689432370374326' has dtype incompatible with int64, please explicitly cast to a compatible dtype first.\n",
      "  test.loc[(test[column].isnull()) & (test['Cluster'] == cluster), column] = cluster_mean\n",
      "/var/folders/85/nvry22pd6nx6pfd1c1h6z_nr0000gp/T/ipykernel_88883/1719971307.py:22: FutureWarning: Setting an item of incompatible dtype is deprecated and will raise an error in a future version of pandas. Value '0.4945266193196988' has dtype incompatible with int64, please explicitly cast to a compatible dtype first.\n",
      "  test.loc[(test[column].isnull()) & (test['Cluster'] == cluster), column] = cluster_mean\n",
      "/var/folders/85/nvry22pd6nx6pfd1c1h6z_nr0000gp/T/ipykernel_88883/1719971307.py:22: FutureWarning: Setting an item of incompatible dtype is deprecated and will raise an error in a future version of pandas. Value '0.8654349335184492' has dtype incompatible with int64, please explicitly cast to a compatible dtype first.\n",
      "  test.loc[(test[column].isnull()) & (test['Cluster'] == cluster), column] = cluster_mean\n",
      "/var/folders/85/nvry22pd6nx6pfd1c1h6z_nr0000gp/T/ipykernel_88883/1719971307.py:22: FutureWarning: Setting an item of incompatible dtype is deprecated and will raise an error in a future version of pandas. Value '213.2580231750948' has dtype incompatible with int64, please explicitly cast to a compatible dtype first.\n",
      "  test.loc[(test[column].isnull()) & (test['Cluster'] == cluster), column] = cluster_mean\n",
      "/var/folders/85/nvry22pd6nx6pfd1c1h6z_nr0000gp/T/ipykernel_88883/1719971307.py:22: FutureWarning: Setting an item of incompatible dtype is deprecated and will raise an error in a future version of pandas. Value '0.5013082714796817' has dtype incompatible with int64, please explicitly cast to a compatible dtype first.\n",
      "  test.loc[(test[column].isnull()) & (test['Cluster'] == cluster), column] = cluster_mean\n",
      "/var/folders/85/nvry22pd6nx6pfd1c1h6z_nr0000gp/T/ipykernel_88883/1719971307.py:22: FutureWarning: Setting an item of incompatible dtype is deprecated and will raise an error in a future version of pandas. Value '4.015005072889411' has dtype incompatible with int64, please explicitly cast to a compatible dtype first.\n",
      "  test.loc[(test[column].isnull()) & (test['Cluster'] == cluster), column] = cluster_mean\n",
      "/var/folders/85/nvry22pd6nx6pfd1c1h6z_nr0000gp/T/ipykernel_88883/1719971307.py:22: FutureWarning: Setting an item of incompatible dtype is deprecated and will raise an error in a future version of pandas. Value '602.9572275324398' has dtype incompatible with int64, please explicitly cast to a compatible dtype first.\n",
      "  test.loc[(test[column].isnull()) & (test['Cluster'] == cluster), column] = cluster_mean\n",
      "/var/folders/85/nvry22pd6nx6pfd1c1h6z_nr0000gp/T/ipykernel_88883/1719971307.py:22: FutureWarning: Setting an item of incompatible dtype is deprecated and will raise an error in a future version of pandas. Value '2.5272601057296953' has dtype incompatible with int64, please explicitly cast to a compatible dtype first.\n",
      "  test.loc[(test[column].isnull()) & (test['Cluster'] == cluster), column] = cluster_mean\n",
      "/var/folders/85/nvry22pd6nx6pfd1c1h6z_nr0000gp/T/ipykernel_88883/1719971307.py:22: FutureWarning: Setting an item of incompatible dtype is deprecated and will raise an error in a future version of pandas. Value '0.035403428205265125' has dtype incompatible with int64, please explicitly cast to a compatible dtype first.\n",
      "  test.loc[(test[column].isnull()) & (test['Cluster'] == cluster), column] = cluster_mean\n",
      "/var/folders/85/nvry22pd6nx6pfd1c1h6z_nr0000gp/T/ipykernel_88883/1719971307.py:22: FutureWarning: Setting an item of incompatible dtype is deprecated and will raise an error in a future version of pandas. Value '0.03919474555454691' has dtype incompatible with int64, please explicitly cast to a compatible dtype first.\n",
      "  test.loc[(test[column].isnull()) & (test['Cluster'] == cluster), column] = cluster_mean\n",
      "/var/folders/85/nvry22pd6nx6pfd1c1h6z_nr0000gp/T/ipykernel_88883/1719971307.py:22: FutureWarning: Setting an item of incompatible dtype is deprecated and will raise an error in a future version of pandas. Value '0.053398835905377265' has dtype incompatible with int64, please explicitly cast to a compatible dtype first.\n",
      "  test.loc[(test[column].isnull()) & (test['Cluster'] == cluster), column] = cluster_mean\n",
      "/var/folders/85/nvry22pd6nx6pfd1c1h6z_nr0000gp/T/ipykernel_88883/1719971307.py:22: FutureWarning: Setting an item of incompatible dtype is deprecated and will raise an error in a future version of pandas. Value '0.09601110695786833' has dtype incompatible with int64, please explicitly cast to a compatible dtype first.\n",
      "  test.loc[(test[column].isnull()) & (test['Cluster'] == cluster), column] = cluster_mean\n"
     ]
    }
   ],
   "execution_count": 182
  },
  {
   "metadata": {
    "ExecuteTime": {
     "end_time": "2024-10-18T09:34:25.984830Z",
     "start_time": "2024-10-18T09:34:13.034716Z"
    }
   },
   "cell_type": "code",
   "source": [
    "corr_matrix = X.corr()  # Матрица корреляций\n",
    "high_corr = corr_matrix.abs() > 0.6  # Признаки с корреляцией выше 0.8\n",
    "\n",
    "# Получим верхний треугольник матрицы корреляций\n",
    "upper = corr_matrix.where(np.triu(np.ones(corr_matrix.shape), k=1).astype(bool))\n",
    "\n",
    "# Найдём признаки с высокой корреляцией\n",
    "to_drop = [column for column in upper.columns if any(upper[column].abs() > 0.6)]\n",
    "\n",
    "# Удалим коррелированные признаки\n",
    "df_reduced = X.drop(to_drop, axis=1)"
   ],
   "id": "416890b386f170ca",
   "outputs": [],
   "execution_count": 183
  },
  {
   "metadata": {
    "ExecuteTime": {
     "end_time": "2024-10-18T09:35:07.457487Z",
     "start_time": "2024-10-18T09:34:59.135195Z"
    }
   },
   "cell_type": "code",
   "source": [
    "RANDOM_STATE = 42\n",
    "model = LogisticRegression(random_state=RANDOM_STATE)\n",
    "model.fit(df_reduced, y_train) # мой фит\n"
   ],
   "id": "63c8079ea2e02064",
   "outputs": [
    {
     "name": "stderr",
     "output_type": "stream",
     "text": [
      "/Users/ssd/Documents/src/spb2024/allcup/venv/lib/python3.9/site-packages/sklearn/linear_model/_logistic.py:469: ConvergenceWarning: lbfgs failed to converge (status=1):\n",
      "STOP: TOTAL NO. of ITERATIONS REACHED LIMIT.\n",
      "\n",
      "Increase the number of iterations (max_iter) or scale the data as shown in:\n",
      "    https://scikit-learn.org/stable/modules/preprocessing.html\n",
      "Please also refer to the documentation for alternative solver options:\n",
      "    https://scikit-learn.org/stable/modules/linear_model.html#logistic-regression\n",
      "  n_iter_i = _check_optimize_result(\n"
     ]
    },
    {
     "data": {
      "text/plain": [
       "LogisticRegression(random_state=42)"
      ],
      "text/html": [
       "<style>#sk-container-id-6 {\n",
       "  /* Definition of color scheme common for light and dark mode */\n",
       "  --sklearn-color-text: black;\n",
       "  --sklearn-color-line: gray;\n",
       "  /* Definition of color scheme for unfitted estimators */\n",
       "  --sklearn-color-unfitted-level-0: #fff5e6;\n",
       "  --sklearn-color-unfitted-level-1: #f6e4d2;\n",
       "  --sklearn-color-unfitted-level-2: #ffe0b3;\n",
       "  --sklearn-color-unfitted-level-3: chocolate;\n",
       "  /* Definition of color scheme for fitted estimators */\n",
       "  --sklearn-color-fitted-level-0: #f0f8ff;\n",
       "  --sklearn-color-fitted-level-1: #d4ebff;\n",
       "  --sklearn-color-fitted-level-2: #b3dbfd;\n",
       "  --sklearn-color-fitted-level-3: cornflowerblue;\n",
       "\n",
       "  /* Specific color for light theme */\n",
       "  --sklearn-color-text-on-default-background: var(--sg-text-color, var(--theme-code-foreground, var(--jp-content-font-color1, black)));\n",
       "  --sklearn-color-background: var(--sg-background-color, var(--theme-background, var(--jp-layout-color0, white)));\n",
       "  --sklearn-color-border-box: var(--sg-text-color, var(--theme-code-foreground, var(--jp-content-font-color1, black)));\n",
       "  --sklearn-color-icon: #696969;\n",
       "\n",
       "  @media (prefers-color-scheme: dark) {\n",
       "    /* Redefinition of color scheme for dark theme */\n",
       "    --sklearn-color-text-on-default-background: var(--sg-text-color, var(--theme-code-foreground, var(--jp-content-font-color1, white)));\n",
       "    --sklearn-color-background: var(--sg-background-color, var(--theme-background, var(--jp-layout-color0, #111)));\n",
       "    --sklearn-color-border-box: var(--sg-text-color, var(--theme-code-foreground, var(--jp-content-font-color1, white)));\n",
       "    --sklearn-color-icon: #878787;\n",
       "  }\n",
       "}\n",
       "\n",
       "#sk-container-id-6 {\n",
       "  color: var(--sklearn-color-text);\n",
       "}\n",
       "\n",
       "#sk-container-id-6 pre {\n",
       "  padding: 0;\n",
       "}\n",
       "\n",
       "#sk-container-id-6 input.sk-hidden--visually {\n",
       "  border: 0;\n",
       "  clip: rect(1px 1px 1px 1px);\n",
       "  clip: rect(1px, 1px, 1px, 1px);\n",
       "  height: 1px;\n",
       "  margin: -1px;\n",
       "  overflow: hidden;\n",
       "  padding: 0;\n",
       "  position: absolute;\n",
       "  width: 1px;\n",
       "}\n",
       "\n",
       "#sk-container-id-6 div.sk-dashed-wrapped {\n",
       "  border: 1px dashed var(--sklearn-color-line);\n",
       "  margin: 0 0.4em 0.5em 0.4em;\n",
       "  box-sizing: border-box;\n",
       "  padding-bottom: 0.4em;\n",
       "  background-color: var(--sklearn-color-background);\n",
       "}\n",
       "\n",
       "#sk-container-id-6 div.sk-container {\n",
       "  /* jupyter's `normalize.less` sets `[hidden] { display: none; }`\n",
       "     but bootstrap.min.css set `[hidden] { display: none !important; }`\n",
       "     so we also need the `!important` here to be able to override the\n",
       "     default hidden behavior on the sphinx rendered scikit-learn.org.\n",
       "     See: https://github.com/scikit-learn/scikit-learn/issues/21755 */\n",
       "  display: inline-block !important;\n",
       "  position: relative;\n",
       "}\n",
       "\n",
       "#sk-container-id-6 div.sk-text-repr-fallback {\n",
       "  display: none;\n",
       "}\n",
       "\n",
       "div.sk-parallel-item,\n",
       "div.sk-serial,\n",
       "div.sk-item {\n",
       "  /* draw centered vertical line to link estimators */\n",
       "  background-image: linear-gradient(var(--sklearn-color-text-on-default-background), var(--sklearn-color-text-on-default-background));\n",
       "  background-size: 2px 100%;\n",
       "  background-repeat: no-repeat;\n",
       "  background-position: center center;\n",
       "}\n",
       "\n",
       "/* Parallel-specific style estimator block */\n",
       "\n",
       "#sk-container-id-6 div.sk-parallel-item::after {\n",
       "  content: \"\";\n",
       "  width: 100%;\n",
       "  border-bottom: 2px solid var(--sklearn-color-text-on-default-background);\n",
       "  flex-grow: 1;\n",
       "}\n",
       "\n",
       "#sk-container-id-6 div.sk-parallel {\n",
       "  display: flex;\n",
       "  align-items: stretch;\n",
       "  justify-content: center;\n",
       "  background-color: var(--sklearn-color-background);\n",
       "  position: relative;\n",
       "}\n",
       "\n",
       "#sk-container-id-6 div.sk-parallel-item {\n",
       "  display: flex;\n",
       "  flex-direction: column;\n",
       "}\n",
       "\n",
       "#sk-container-id-6 div.sk-parallel-item:first-child::after {\n",
       "  align-self: flex-end;\n",
       "  width: 50%;\n",
       "}\n",
       "\n",
       "#sk-container-id-6 div.sk-parallel-item:last-child::after {\n",
       "  align-self: flex-start;\n",
       "  width: 50%;\n",
       "}\n",
       "\n",
       "#sk-container-id-6 div.sk-parallel-item:only-child::after {\n",
       "  width: 0;\n",
       "}\n",
       "\n",
       "/* Serial-specific style estimator block */\n",
       "\n",
       "#sk-container-id-6 div.sk-serial {\n",
       "  display: flex;\n",
       "  flex-direction: column;\n",
       "  align-items: center;\n",
       "  background-color: var(--sklearn-color-background);\n",
       "  padding-right: 1em;\n",
       "  padding-left: 1em;\n",
       "}\n",
       "\n",
       "\n",
       "/* Toggleable style: style used for estimator/Pipeline/ColumnTransformer box that is\n",
       "clickable and can be expanded/collapsed.\n",
       "- Pipeline and ColumnTransformer use this feature and define the default style\n",
       "- Estimators will overwrite some part of the style using the `sk-estimator` class\n",
       "*/\n",
       "\n",
       "/* Pipeline and ColumnTransformer style (default) */\n",
       "\n",
       "#sk-container-id-6 div.sk-toggleable {\n",
       "  /* Default theme specific background. It is overwritten whether we have a\n",
       "  specific estimator or a Pipeline/ColumnTransformer */\n",
       "  background-color: var(--sklearn-color-background);\n",
       "}\n",
       "\n",
       "/* Toggleable label */\n",
       "#sk-container-id-6 label.sk-toggleable__label {\n",
       "  cursor: pointer;\n",
       "  display: block;\n",
       "  width: 100%;\n",
       "  margin-bottom: 0;\n",
       "  padding: 0.5em;\n",
       "  box-sizing: border-box;\n",
       "  text-align: center;\n",
       "}\n",
       "\n",
       "#sk-container-id-6 label.sk-toggleable__label-arrow:before {\n",
       "  /* Arrow on the left of the label */\n",
       "  content: \"▸\";\n",
       "  float: left;\n",
       "  margin-right: 0.25em;\n",
       "  color: var(--sklearn-color-icon);\n",
       "}\n",
       "\n",
       "#sk-container-id-6 label.sk-toggleable__label-arrow:hover:before {\n",
       "  color: var(--sklearn-color-text);\n",
       "}\n",
       "\n",
       "/* Toggleable content - dropdown */\n",
       "\n",
       "#sk-container-id-6 div.sk-toggleable__content {\n",
       "  max-height: 0;\n",
       "  max-width: 0;\n",
       "  overflow: hidden;\n",
       "  text-align: left;\n",
       "  /* unfitted */\n",
       "  background-color: var(--sklearn-color-unfitted-level-0);\n",
       "}\n",
       "\n",
       "#sk-container-id-6 div.sk-toggleable__content.fitted {\n",
       "  /* fitted */\n",
       "  background-color: var(--sklearn-color-fitted-level-0);\n",
       "}\n",
       "\n",
       "#sk-container-id-6 div.sk-toggleable__content pre {\n",
       "  margin: 0.2em;\n",
       "  border-radius: 0.25em;\n",
       "  color: var(--sklearn-color-text);\n",
       "  /* unfitted */\n",
       "  background-color: var(--sklearn-color-unfitted-level-0);\n",
       "}\n",
       "\n",
       "#sk-container-id-6 div.sk-toggleable__content.fitted pre {\n",
       "  /* unfitted */\n",
       "  background-color: var(--sklearn-color-fitted-level-0);\n",
       "}\n",
       "\n",
       "#sk-container-id-6 input.sk-toggleable__control:checked~div.sk-toggleable__content {\n",
       "  /* Expand drop-down */\n",
       "  max-height: 200px;\n",
       "  max-width: 100%;\n",
       "  overflow: auto;\n",
       "}\n",
       "\n",
       "#sk-container-id-6 input.sk-toggleable__control:checked~label.sk-toggleable__label-arrow:before {\n",
       "  content: \"▾\";\n",
       "}\n",
       "\n",
       "/* Pipeline/ColumnTransformer-specific style */\n",
       "\n",
       "#sk-container-id-6 div.sk-label input.sk-toggleable__control:checked~label.sk-toggleable__label {\n",
       "  color: var(--sklearn-color-text);\n",
       "  background-color: var(--sklearn-color-unfitted-level-2);\n",
       "}\n",
       "\n",
       "#sk-container-id-6 div.sk-label.fitted input.sk-toggleable__control:checked~label.sk-toggleable__label {\n",
       "  background-color: var(--sklearn-color-fitted-level-2);\n",
       "}\n",
       "\n",
       "/* Estimator-specific style */\n",
       "\n",
       "/* Colorize estimator box */\n",
       "#sk-container-id-6 div.sk-estimator input.sk-toggleable__control:checked~label.sk-toggleable__label {\n",
       "  /* unfitted */\n",
       "  background-color: var(--sklearn-color-unfitted-level-2);\n",
       "}\n",
       "\n",
       "#sk-container-id-6 div.sk-estimator.fitted input.sk-toggleable__control:checked~label.sk-toggleable__label {\n",
       "  /* fitted */\n",
       "  background-color: var(--sklearn-color-fitted-level-2);\n",
       "}\n",
       "\n",
       "#sk-container-id-6 div.sk-label label.sk-toggleable__label,\n",
       "#sk-container-id-6 div.sk-label label {\n",
       "  /* The background is the default theme color */\n",
       "  color: var(--sklearn-color-text-on-default-background);\n",
       "}\n",
       "\n",
       "/* On hover, darken the color of the background */\n",
       "#sk-container-id-6 div.sk-label:hover label.sk-toggleable__label {\n",
       "  color: var(--sklearn-color-text);\n",
       "  background-color: var(--sklearn-color-unfitted-level-2);\n",
       "}\n",
       "\n",
       "/* Label box, darken color on hover, fitted */\n",
       "#sk-container-id-6 div.sk-label.fitted:hover label.sk-toggleable__label.fitted {\n",
       "  color: var(--sklearn-color-text);\n",
       "  background-color: var(--sklearn-color-fitted-level-2);\n",
       "}\n",
       "\n",
       "/* Estimator label */\n",
       "\n",
       "#sk-container-id-6 div.sk-label label {\n",
       "  font-family: monospace;\n",
       "  font-weight: bold;\n",
       "  display: inline-block;\n",
       "  line-height: 1.2em;\n",
       "}\n",
       "\n",
       "#sk-container-id-6 div.sk-label-container {\n",
       "  text-align: center;\n",
       "}\n",
       "\n",
       "/* Estimator-specific */\n",
       "#sk-container-id-6 div.sk-estimator {\n",
       "  font-family: monospace;\n",
       "  border: 1px dotted var(--sklearn-color-border-box);\n",
       "  border-radius: 0.25em;\n",
       "  box-sizing: border-box;\n",
       "  margin-bottom: 0.5em;\n",
       "  /* unfitted */\n",
       "  background-color: var(--sklearn-color-unfitted-level-0);\n",
       "}\n",
       "\n",
       "#sk-container-id-6 div.sk-estimator.fitted {\n",
       "  /* fitted */\n",
       "  background-color: var(--sklearn-color-fitted-level-0);\n",
       "}\n",
       "\n",
       "/* on hover */\n",
       "#sk-container-id-6 div.sk-estimator:hover {\n",
       "  /* unfitted */\n",
       "  background-color: var(--sklearn-color-unfitted-level-2);\n",
       "}\n",
       "\n",
       "#sk-container-id-6 div.sk-estimator.fitted:hover {\n",
       "  /* fitted */\n",
       "  background-color: var(--sklearn-color-fitted-level-2);\n",
       "}\n",
       "\n",
       "/* Specification for estimator info (e.g. \"i\" and \"?\") */\n",
       "\n",
       "/* Common style for \"i\" and \"?\" */\n",
       "\n",
       ".sk-estimator-doc-link,\n",
       "a:link.sk-estimator-doc-link,\n",
       "a:visited.sk-estimator-doc-link {\n",
       "  float: right;\n",
       "  font-size: smaller;\n",
       "  line-height: 1em;\n",
       "  font-family: monospace;\n",
       "  background-color: var(--sklearn-color-background);\n",
       "  border-radius: 1em;\n",
       "  height: 1em;\n",
       "  width: 1em;\n",
       "  text-decoration: none !important;\n",
       "  margin-left: 1ex;\n",
       "  /* unfitted */\n",
       "  border: var(--sklearn-color-unfitted-level-1) 1pt solid;\n",
       "  color: var(--sklearn-color-unfitted-level-1);\n",
       "}\n",
       "\n",
       ".sk-estimator-doc-link.fitted,\n",
       "a:link.sk-estimator-doc-link.fitted,\n",
       "a:visited.sk-estimator-doc-link.fitted {\n",
       "  /* fitted */\n",
       "  border: var(--sklearn-color-fitted-level-1) 1pt solid;\n",
       "  color: var(--sklearn-color-fitted-level-1);\n",
       "}\n",
       "\n",
       "/* On hover */\n",
       "div.sk-estimator:hover .sk-estimator-doc-link:hover,\n",
       ".sk-estimator-doc-link:hover,\n",
       "div.sk-label-container:hover .sk-estimator-doc-link:hover,\n",
       ".sk-estimator-doc-link:hover {\n",
       "  /* unfitted */\n",
       "  background-color: var(--sklearn-color-unfitted-level-3);\n",
       "  color: var(--sklearn-color-background);\n",
       "  text-decoration: none;\n",
       "}\n",
       "\n",
       "div.sk-estimator.fitted:hover .sk-estimator-doc-link.fitted:hover,\n",
       ".sk-estimator-doc-link.fitted:hover,\n",
       "div.sk-label-container:hover .sk-estimator-doc-link.fitted:hover,\n",
       ".sk-estimator-doc-link.fitted:hover {\n",
       "  /* fitted */\n",
       "  background-color: var(--sklearn-color-fitted-level-3);\n",
       "  color: var(--sklearn-color-background);\n",
       "  text-decoration: none;\n",
       "}\n",
       "\n",
       "/* Span, style for the box shown on hovering the info icon */\n",
       ".sk-estimator-doc-link span {\n",
       "  display: none;\n",
       "  z-index: 9999;\n",
       "  position: relative;\n",
       "  font-weight: normal;\n",
       "  right: .2ex;\n",
       "  padding: .5ex;\n",
       "  margin: .5ex;\n",
       "  width: min-content;\n",
       "  min-width: 20ex;\n",
       "  max-width: 50ex;\n",
       "  color: var(--sklearn-color-text);\n",
       "  box-shadow: 2pt 2pt 4pt #999;\n",
       "  /* unfitted */\n",
       "  background: var(--sklearn-color-unfitted-level-0);\n",
       "  border: .5pt solid var(--sklearn-color-unfitted-level-3);\n",
       "}\n",
       "\n",
       ".sk-estimator-doc-link.fitted span {\n",
       "  /* fitted */\n",
       "  background: var(--sklearn-color-fitted-level-0);\n",
       "  border: var(--sklearn-color-fitted-level-3);\n",
       "}\n",
       "\n",
       ".sk-estimator-doc-link:hover span {\n",
       "  display: block;\n",
       "}\n",
       "\n",
       "/* \"?\"-specific style due to the `<a>` HTML tag */\n",
       "\n",
       "#sk-container-id-6 a.estimator_doc_link {\n",
       "  float: right;\n",
       "  font-size: 1rem;\n",
       "  line-height: 1em;\n",
       "  font-family: monospace;\n",
       "  background-color: var(--sklearn-color-background);\n",
       "  border-radius: 1rem;\n",
       "  height: 1rem;\n",
       "  width: 1rem;\n",
       "  text-decoration: none;\n",
       "  /* unfitted */\n",
       "  color: var(--sklearn-color-unfitted-level-1);\n",
       "  border: var(--sklearn-color-unfitted-level-1) 1pt solid;\n",
       "}\n",
       "\n",
       "#sk-container-id-6 a.estimator_doc_link.fitted {\n",
       "  /* fitted */\n",
       "  border: var(--sklearn-color-fitted-level-1) 1pt solid;\n",
       "  color: var(--sklearn-color-fitted-level-1);\n",
       "}\n",
       "\n",
       "/* On hover */\n",
       "#sk-container-id-6 a.estimator_doc_link:hover {\n",
       "  /* unfitted */\n",
       "  background-color: var(--sklearn-color-unfitted-level-3);\n",
       "  color: var(--sklearn-color-background);\n",
       "  text-decoration: none;\n",
       "}\n",
       "\n",
       "#sk-container-id-6 a.estimator_doc_link.fitted:hover {\n",
       "  /* fitted */\n",
       "  background-color: var(--sklearn-color-fitted-level-3);\n",
       "}\n",
       "</style><div id=\"sk-container-id-6\" class=\"sk-top-container\"><div class=\"sk-text-repr-fallback\"><pre>LogisticRegression(random_state=42)</pre><b>In a Jupyter environment, please rerun this cell to show the HTML representation or trust the notebook. <br />On GitHub, the HTML representation is unable to render, please try loading this page with nbviewer.org.</b></div><div class=\"sk-container\" hidden><div class=\"sk-item\"><div class=\"sk-estimator fitted sk-toggleable\"><input class=\"sk-toggleable__control sk-hidden--visually\" id=\"sk-estimator-id-6\" type=\"checkbox\" checked><label for=\"sk-estimator-id-6\" class=\"sk-toggleable__label fitted sk-toggleable__label-arrow fitted\">&nbsp;&nbsp;LogisticRegression<a class=\"sk-estimator-doc-link fitted\" rel=\"noreferrer\" target=\"_blank\" href=\"https://scikit-learn.org/1.5/modules/generated/sklearn.linear_model.LogisticRegression.html\">?<span>Documentation for LogisticRegression</span></a><span class=\"sk-estimator-doc-link fitted\">i<span>Fitted</span></span></label><div class=\"sk-toggleable__content fitted\"><pre>LogisticRegression(random_state=42)</pre></div> </div></div></div></div>"
      ]
     },
     "execution_count": 184,
     "metadata": {},
     "output_type": "execute_result"
    }
   ],
   "execution_count": 184
  },
  {
   "metadata": {
    "ExecuteTime": {
     "end_time": "2024-10-18T09:35:25.980258Z",
     "start_time": "2024-10-18T09:35:25.937706Z"
    }
   },
   "cell_type": "code",
   "source": [
    "# Предположим, df1 и df2 — два DataFrame\n",
    "# Получаем пересечение имен столбцов\n",
    "common_columns = df_reduced.columns.intersection(test.columns)\n",
    "\n",
    "# Оставляем только эти столбцы в df1\n",
    "test_filtered = test[common_columns]"
   ],
   "id": "edb2900767b3248",
   "outputs": [],
   "execution_count": 185
  },
  {
   "metadata": {
    "ExecuteTime": {
     "end_time": "2024-10-18T09:35:27.803907Z",
     "start_time": "2024-10-18T09:35:27.589949Z"
    }
   },
   "cell_type": "code",
   "source": [
    "X_test_0 = test_filtered.copy()\n",
    "X_test_0['treatment'] = 0\n",
    "y_pred_0 = model.predict_proba(X_test_0)[:,1]"
   ],
   "id": "39687bfeed92585b",
   "outputs": [],
   "execution_count": 186
  },
  {
   "metadata": {
    "ExecuteTime": {
     "end_time": "2024-10-18T09:35:28.970084Z",
     "start_time": "2024-10-18T09:35:28.762998Z"
    }
   },
   "cell_type": "code",
   "source": [
    "X_test_1 = test_filtered.copy()\n",
    "X_test_1['treatment'] = 1\n",
    "y_pred_1 = model.predict_proba(X_test_1)[:,1]"
   ],
   "id": "1be833a37a2d9e10",
   "outputs": [],
   "execution_count": 187
  },
  {
   "metadata": {
    "ExecuteTime": {
     "end_time": "2024-10-18T09:35:31.194711Z",
     "start_time": "2024-10-18T09:35:31.191328Z"
    }
   },
   "cell_type": "code",
   "source": "uplift = y_pred_1 - y_pred_0",
   "id": "41612e6eee56b871",
   "outputs": [],
   "execution_count": 188
  },
  {
   "metadata": {
    "ExecuteTime": {
     "end_time": "2024-10-18T09:35:42.191913Z",
     "start_time": "2024-10-18T09:35:42.187808Z"
    }
   },
   "cell_type": "code",
   "source": "CsvUplift = pd.DataFrame({'successful_utilization' : uplift})",
   "id": "ff992d9704eda4e8",
   "outputs": [],
   "execution_count": 189
  },
  {
   "metadata": {
    "ExecuteTime": {
     "end_time": "2024-10-18T09:35:57.574973Z",
     "start_time": "2024-10-18T09:35:57.565454Z"
    }
   },
   "cell_type": "code",
   "source": "CsvUplift",
   "id": "7e34c364a0d7c168",
   "outputs": [
    {
     "data": {
      "text/plain": [
       "       successful_utilization\n",
       "0               -2.228495e-12\n",
       "1               -1.362410e-12\n",
       "2               -4.105952e-13\n",
       "3               -2.163103e-12\n",
       "4               -2.006117e-12\n",
       "...                       ...\n",
       "74308           -1.962985e-12\n",
       "74309           -1.901590e-12\n",
       "74310           -2.213729e-12\n",
       "74311           -2.150169e-12\n",
       "74312           -9.501011e-13\n",
       "\n",
       "[74313 rows x 1 columns]"
      ],
      "text/html": [
       "<div>\n",
       "<style scoped>\n",
       "    .dataframe tbody tr th:only-of-type {\n",
       "        vertical-align: middle;\n",
       "    }\n",
       "\n",
       "    .dataframe tbody tr th {\n",
       "        vertical-align: top;\n",
       "    }\n",
       "\n",
       "    .dataframe thead th {\n",
       "        text-align: right;\n",
       "    }\n",
       "</style>\n",
       "<table border=\"1\" class=\"dataframe\">\n",
       "  <thead>\n",
       "    <tr style=\"text-align: right;\">\n",
       "      <th></th>\n",
       "      <th>successful_utilization</th>\n",
       "    </tr>\n",
       "  </thead>\n",
       "  <tbody>\n",
       "    <tr>\n",
       "      <th>0</th>\n",
       "      <td>-2.228495e-12</td>\n",
       "    </tr>\n",
       "    <tr>\n",
       "      <th>1</th>\n",
       "      <td>-1.362410e-12</td>\n",
       "    </tr>\n",
       "    <tr>\n",
       "      <th>2</th>\n",
       "      <td>-4.105952e-13</td>\n",
       "    </tr>\n",
       "    <tr>\n",
       "      <th>3</th>\n",
       "      <td>-2.163103e-12</td>\n",
       "    </tr>\n",
       "    <tr>\n",
       "      <th>4</th>\n",
       "      <td>-2.006117e-12</td>\n",
       "    </tr>\n",
       "    <tr>\n",
       "      <th>...</th>\n",
       "      <td>...</td>\n",
       "    </tr>\n",
       "    <tr>\n",
       "      <th>74308</th>\n",
       "      <td>-1.962985e-12</td>\n",
       "    </tr>\n",
       "    <tr>\n",
       "      <th>74309</th>\n",
       "      <td>-1.901590e-12</td>\n",
       "    </tr>\n",
       "    <tr>\n",
       "      <th>74310</th>\n",
       "      <td>-2.213729e-12</td>\n",
       "    </tr>\n",
       "    <tr>\n",
       "      <th>74311</th>\n",
       "      <td>-2.150169e-12</td>\n",
       "    </tr>\n",
       "    <tr>\n",
       "      <th>74312</th>\n",
       "      <td>-9.501011e-13</td>\n",
       "    </tr>\n",
       "  </tbody>\n",
       "</table>\n",
       "<p>74313 rows × 1 columns</p>\n",
       "</div>"
      ]
     },
     "execution_count": 190,
     "metadata": {},
     "output_type": "execute_result"
    }
   ],
   "execution_count": 190
  },
  {
   "metadata": {
    "ExecuteTime": {
     "end_time": "2024-10-17T19:42:37.265541Z",
     "start_time": "2024-10-17T19:42:37.260858Z"
    }
   },
   "cell_type": "code",
   "outputs": [],
   "execution_count": 76,
   "source": "import scipy.stats as stats",
   "id": "41fa0df39427f4f7"
  },
  {
   "metadata": {},
   "cell_type": "code",
   "outputs": [],
   "execution_count": null,
   "source": "CsvUplift.to_csv('/Users/ssd/Downloads/uplift4.csv')",
   "id": "81e1fac92e09f9fd"
  },
  {
   "metadata": {
    "ExecuteTime": {
     "end_time": "2024-10-17T20:28:50.462735Z",
     "start_time": "2024-10-17T20:28:50.436506Z"
    }
   },
   "cell_type": "code",
   "outputs": [
    {
     "ename": "AttributeError",
     "evalue": "'numpy.ndarray' object has no attribute 'columns'",
     "output_type": "error",
     "traceback": [
      "\u001B[0;31m---------------------------------------------------------------------------\u001B[0m",
      "\u001B[0;31mAttributeError\u001B[0m                            Traceback (most recent call last)",
      "Cell \u001B[0;32mIn[83], line 2\u001B[0m\n\u001B[1;32m      1\u001B[0m res \u001B[38;5;241m=\u001B[39m \u001B[38;5;241m0\u001B[39m\n\u001B[0;32m----> 2\u001B[0m \u001B[38;5;28;01mfor\u001B[39;00m i \u001B[38;5;129;01min\u001B[39;00m \u001B[43mX_pca\u001B[49m\u001B[38;5;241;43m.\u001B[39;49m\u001B[43mcolumns\u001B[49m:\n\u001B[1;32m      3\u001B[0m     \u001B[38;5;28;01mfor\u001B[39;00m j \u001B[38;5;129;01min\u001B[39;00m X_pca\u001B[38;5;241m.\u001B[39mcolumns:\n\u001B[1;32m      4\u001B[0m         r, p_value \u001B[38;5;241m=\u001B[39m stats\u001B[38;5;241m.\u001B[39mpearsonr(X_pca[i], X_pca[j])\n",
      "\u001B[0;31mAttributeError\u001B[0m: 'numpy.ndarray' object has no attribute 'columns'"
     ]
    }
   ],
   "execution_count": 83,
   "source": [
    "res = 0\n",
    "for i in X_pca.columns:\n",
    "    for j in X_pca.columns:\n",
    "        r, p_value = stats.pearsonr(X_pca[i], X_pca[j])\n",
    "        alpha = 0.05\n",
    "        if p_value < alpha and i != j and abs(r) >= 0.6:\n",
    "            print(i, \"     \", j, \"     \", r, \"     \", p_value)\n",
    "            res += 1\n",
    "print(res)"
   ],
   "id": "1f499699b119b92b"
  },
  {
   "metadata": {
    "ExecuteTime": {
     "end_time": "2024-10-17T20:28:14.878693Z",
     "start_time": "2024-10-17T20:28:11.509790Z"
    }
   },
   "cell_type": "code",
   "outputs": [],
   "execution_count": 81,
   "source": [
    "from sklearn.decomposition import PCA\n",
    "from sklearn.preprocessing import StandardScaler\n",
    "\n",
    "# Стандартизация данных (PCA чувствителен к масштабу признаков)\n",
    "scaler = StandardScaler()\n",
    "X_scaled = scaler.fit_transform(X_train)\n",
    "\n",
    "# Применение PCA\n",
    "pca = PCA(n_components=0.95)  # Сохраним 95% информации\n",
    "X_pca = pca.fit_transform(X_scaled)"
   ],
   "id": "507c5a5161944921"
  },
  {
   "metadata": {
    "ExecuteTime": {
     "end_time": "2024-10-17T20:41:05.989433Z",
     "start_time": "2024-10-17T20:40:05.975300Z"
    }
   },
   "cell_type": "code",
   "outputs": [
    {
     "name": "stderr",
     "output_type": "stream",
     "text": [
      "/Users/ssd/Documents/src/spb2024/allcup/venv/lib/python3.9/site-packages/sklearn/linear_model/_coordinate_descent.py:697: ConvergenceWarning: Objective did not converge. You might want to increase the number of iterations, check the scale of the features or consider increasing regularisation. Duality gap: 2.642e+04, tolerance: 5.424e+00\n",
      "  model = cd_fast.enet_coordinate_descent(\n"
     ]
    },
    {
     "data": {
      "text/plain": [
       "Lasso(alpha=0.1)"
      ],
      "text/html": [
       "<style>#sk-container-id-3 {\n",
       "  /* Definition of color scheme common for light and dark mode */\n",
       "  --sklearn-color-text: black;\n",
       "  --sklearn-color-line: gray;\n",
       "  /* Definition of color scheme for unfitted estimators */\n",
       "  --sklearn-color-unfitted-level-0: #fff5e6;\n",
       "  --sklearn-color-unfitted-level-1: #f6e4d2;\n",
       "  --sklearn-color-unfitted-level-2: #ffe0b3;\n",
       "  --sklearn-color-unfitted-level-3: chocolate;\n",
       "  /* Definition of color scheme for fitted estimators */\n",
       "  --sklearn-color-fitted-level-0: #f0f8ff;\n",
       "  --sklearn-color-fitted-level-1: #d4ebff;\n",
       "  --sklearn-color-fitted-level-2: #b3dbfd;\n",
       "  --sklearn-color-fitted-level-3: cornflowerblue;\n",
       "\n",
       "  /* Specific color for light theme */\n",
       "  --sklearn-color-text-on-default-background: var(--sg-text-color, var(--theme-code-foreground, var(--jp-content-font-color1, black)));\n",
       "  --sklearn-color-background: var(--sg-background-color, var(--theme-background, var(--jp-layout-color0, white)));\n",
       "  --sklearn-color-border-box: var(--sg-text-color, var(--theme-code-foreground, var(--jp-content-font-color1, black)));\n",
       "  --sklearn-color-icon: #696969;\n",
       "\n",
       "  @media (prefers-color-scheme: dark) {\n",
       "    /* Redefinition of color scheme for dark theme */\n",
       "    --sklearn-color-text-on-default-background: var(--sg-text-color, var(--theme-code-foreground, var(--jp-content-font-color1, white)));\n",
       "    --sklearn-color-background: var(--sg-background-color, var(--theme-background, var(--jp-layout-color0, #111)));\n",
       "    --sklearn-color-border-box: var(--sg-text-color, var(--theme-code-foreground, var(--jp-content-font-color1, white)));\n",
       "    --sklearn-color-icon: #878787;\n",
       "  }\n",
       "}\n",
       "\n",
       "#sk-container-id-3 {\n",
       "  color: var(--sklearn-color-text);\n",
       "}\n",
       "\n",
       "#sk-container-id-3 pre {\n",
       "  padding: 0;\n",
       "}\n",
       "\n",
       "#sk-container-id-3 input.sk-hidden--visually {\n",
       "  border: 0;\n",
       "  clip: rect(1px 1px 1px 1px);\n",
       "  clip: rect(1px, 1px, 1px, 1px);\n",
       "  height: 1px;\n",
       "  margin: -1px;\n",
       "  overflow: hidden;\n",
       "  padding: 0;\n",
       "  position: absolute;\n",
       "  width: 1px;\n",
       "}\n",
       "\n",
       "#sk-container-id-3 div.sk-dashed-wrapped {\n",
       "  border: 1px dashed var(--sklearn-color-line);\n",
       "  margin: 0 0.4em 0.5em 0.4em;\n",
       "  box-sizing: border-box;\n",
       "  padding-bottom: 0.4em;\n",
       "  background-color: var(--sklearn-color-background);\n",
       "}\n",
       "\n",
       "#sk-container-id-3 div.sk-container {\n",
       "  /* jupyter's `normalize.less` sets `[hidden] { display: none; }`\n",
       "     but bootstrap.min.css set `[hidden] { display: none !important; }`\n",
       "     so we also need the `!important` here to be able to override the\n",
       "     default hidden behavior on the sphinx rendered scikit-learn.org.\n",
       "     See: https://github.com/scikit-learn/scikit-learn/issues/21755 */\n",
       "  display: inline-block !important;\n",
       "  position: relative;\n",
       "}\n",
       "\n",
       "#sk-container-id-3 div.sk-text-repr-fallback {\n",
       "  display: none;\n",
       "}\n",
       "\n",
       "div.sk-parallel-item,\n",
       "div.sk-serial,\n",
       "div.sk-item {\n",
       "  /* draw centered vertical line to link estimators */\n",
       "  background-image: linear-gradient(var(--sklearn-color-text-on-default-background), var(--sklearn-color-text-on-default-background));\n",
       "  background-size: 2px 100%;\n",
       "  background-repeat: no-repeat;\n",
       "  background-position: center center;\n",
       "}\n",
       "\n",
       "/* Parallel-specific style estimator block */\n",
       "\n",
       "#sk-container-id-3 div.sk-parallel-item::after {\n",
       "  content: \"\";\n",
       "  width: 100%;\n",
       "  border-bottom: 2px solid var(--sklearn-color-text-on-default-background);\n",
       "  flex-grow: 1;\n",
       "}\n",
       "\n",
       "#sk-container-id-3 div.sk-parallel {\n",
       "  display: flex;\n",
       "  align-items: stretch;\n",
       "  justify-content: center;\n",
       "  background-color: var(--sklearn-color-background);\n",
       "  position: relative;\n",
       "}\n",
       "\n",
       "#sk-container-id-3 div.sk-parallel-item {\n",
       "  display: flex;\n",
       "  flex-direction: column;\n",
       "}\n",
       "\n",
       "#sk-container-id-3 div.sk-parallel-item:first-child::after {\n",
       "  align-self: flex-end;\n",
       "  width: 50%;\n",
       "}\n",
       "\n",
       "#sk-container-id-3 div.sk-parallel-item:last-child::after {\n",
       "  align-self: flex-start;\n",
       "  width: 50%;\n",
       "}\n",
       "\n",
       "#sk-container-id-3 div.sk-parallel-item:only-child::after {\n",
       "  width: 0;\n",
       "}\n",
       "\n",
       "/* Serial-specific style estimator block */\n",
       "\n",
       "#sk-container-id-3 div.sk-serial {\n",
       "  display: flex;\n",
       "  flex-direction: column;\n",
       "  align-items: center;\n",
       "  background-color: var(--sklearn-color-background);\n",
       "  padding-right: 1em;\n",
       "  padding-left: 1em;\n",
       "}\n",
       "\n",
       "\n",
       "/* Toggleable style: style used for estimator/Pipeline/ColumnTransformer box that is\n",
       "clickable and can be expanded/collapsed.\n",
       "- Pipeline and ColumnTransformer use this feature and define the default style\n",
       "- Estimators will overwrite some part of the style using the `sk-estimator` class\n",
       "*/\n",
       "\n",
       "/* Pipeline and ColumnTransformer style (default) */\n",
       "\n",
       "#sk-container-id-3 div.sk-toggleable {\n",
       "  /* Default theme specific background. It is overwritten whether we have a\n",
       "  specific estimator or a Pipeline/ColumnTransformer */\n",
       "  background-color: var(--sklearn-color-background);\n",
       "}\n",
       "\n",
       "/* Toggleable label */\n",
       "#sk-container-id-3 label.sk-toggleable__label {\n",
       "  cursor: pointer;\n",
       "  display: block;\n",
       "  width: 100%;\n",
       "  margin-bottom: 0;\n",
       "  padding: 0.5em;\n",
       "  box-sizing: border-box;\n",
       "  text-align: center;\n",
       "}\n",
       "\n",
       "#sk-container-id-3 label.sk-toggleable__label-arrow:before {\n",
       "  /* Arrow on the left of the label */\n",
       "  content: \"▸\";\n",
       "  float: left;\n",
       "  margin-right: 0.25em;\n",
       "  color: var(--sklearn-color-icon);\n",
       "}\n",
       "\n",
       "#sk-container-id-3 label.sk-toggleable__label-arrow:hover:before {\n",
       "  color: var(--sklearn-color-text);\n",
       "}\n",
       "\n",
       "/* Toggleable content - dropdown */\n",
       "\n",
       "#sk-container-id-3 div.sk-toggleable__content {\n",
       "  max-height: 0;\n",
       "  max-width: 0;\n",
       "  overflow: hidden;\n",
       "  text-align: left;\n",
       "  /* unfitted */\n",
       "  background-color: var(--sklearn-color-unfitted-level-0);\n",
       "}\n",
       "\n",
       "#sk-container-id-3 div.sk-toggleable__content.fitted {\n",
       "  /* fitted */\n",
       "  background-color: var(--sklearn-color-fitted-level-0);\n",
       "}\n",
       "\n",
       "#sk-container-id-3 div.sk-toggleable__content pre {\n",
       "  margin: 0.2em;\n",
       "  border-radius: 0.25em;\n",
       "  color: var(--sklearn-color-text);\n",
       "  /* unfitted */\n",
       "  background-color: var(--sklearn-color-unfitted-level-0);\n",
       "}\n",
       "\n",
       "#sk-container-id-3 div.sk-toggleable__content.fitted pre {\n",
       "  /* unfitted */\n",
       "  background-color: var(--sklearn-color-fitted-level-0);\n",
       "}\n",
       "\n",
       "#sk-container-id-3 input.sk-toggleable__control:checked~div.sk-toggleable__content {\n",
       "  /* Expand drop-down */\n",
       "  max-height: 200px;\n",
       "  max-width: 100%;\n",
       "  overflow: auto;\n",
       "}\n",
       "\n",
       "#sk-container-id-3 input.sk-toggleable__control:checked~label.sk-toggleable__label-arrow:before {\n",
       "  content: \"▾\";\n",
       "}\n",
       "\n",
       "/* Pipeline/ColumnTransformer-specific style */\n",
       "\n",
       "#sk-container-id-3 div.sk-label input.sk-toggleable__control:checked~label.sk-toggleable__label {\n",
       "  color: var(--sklearn-color-text);\n",
       "  background-color: var(--sklearn-color-unfitted-level-2);\n",
       "}\n",
       "\n",
       "#sk-container-id-3 div.sk-label.fitted input.sk-toggleable__control:checked~label.sk-toggleable__label {\n",
       "  background-color: var(--sklearn-color-fitted-level-2);\n",
       "}\n",
       "\n",
       "/* Estimator-specific style */\n",
       "\n",
       "/* Colorize estimator box */\n",
       "#sk-container-id-3 div.sk-estimator input.sk-toggleable__control:checked~label.sk-toggleable__label {\n",
       "  /* unfitted */\n",
       "  background-color: var(--sklearn-color-unfitted-level-2);\n",
       "}\n",
       "\n",
       "#sk-container-id-3 div.sk-estimator.fitted input.sk-toggleable__control:checked~label.sk-toggleable__label {\n",
       "  /* fitted */\n",
       "  background-color: var(--sklearn-color-fitted-level-2);\n",
       "}\n",
       "\n",
       "#sk-container-id-3 div.sk-label label.sk-toggleable__label,\n",
       "#sk-container-id-3 div.sk-label label {\n",
       "  /* The background is the default theme color */\n",
       "  color: var(--sklearn-color-text-on-default-background);\n",
       "}\n",
       "\n",
       "/* On hover, darken the color of the background */\n",
       "#sk-container-id-3 div.sk-label:hover label.sk-toggleable__label {\n",
       "  color: var(--sklearn-color-text);\n",
       "  background-color: var(--sklearn-color-unfitted-level-2);\n",
       "}\n",
       "\n",
       "/* Label box, darken color on hover, fitted */\n",
       "#sk-container-id-3 div.sk-label.fitted:hover label.sk-toggleable__label.fitted {\n",
       "  color: var(--sklearn-color-text);\n",
       "  background-color: var(--sklearn-color-fitted-level-2);\n",
       "}\n",
       "\n",
       "/* Estimator label */\n",
       "\n",
       "#sk-container-id-3 div.sk-label label {\n",
       "  font-family: monospace;\n",
       "  font-weight: bold;\n",
       "  display: inline-block;\n",
       "  line-height: 1.2em;\n",
       "}\n",
       "\n",
       "#sk-container-id-3 div.sk-label-container {\n",
       "  text-align: center;\n",
       "}\n",
       "\n",
       "/* Estimator-specific */\n",
       "#sk-container-id-3 div.sk-estimator {\n",
       "  font-family: monospace;\n",
       "  border: 1px dotted var(--sklearn-color-border-box);\n",
       "  border-radius: 0.25em;\n",
       "  box-sizing: border-box;\n",
       "  margin-bottom: 0.5em;\n",
       "  /* unfitted */\n",
       "  background-color: var(--sklearn-color-unfitted-level-0);\n",
       "}\n",
       "\n",
       "#sk-container-id-3 div.sk-estimator.fitted {\n",
       "  /* fitted */\n",
       "  background-color: var(--sklearn-color-fitted-level-0);\n",
       "}\n",
       "\n",
       "/* on hover */\n",
       "#sk-container-id-3 div.sk-estimator:hover {\n",
       "  /* unfitted */\n",
       "  background-color: var(--sklearn-color-unfitted-level-2);\n",
       "}\n",
       "\n",
       "#sk-container-id-3 div.sk-estimator.fitted:hover {\n",
       "  /* fitted */\n",
       "  background-color: var(--sklearn-color-fitted-level-2);\n",
       "}\n",
       "\n",
       "/* Specification for estimator info (e.g. \"i\" and \"?\") */\n",
       "\n",
       "/* Common style for \"i\" and \"?\" */\n",
       "\n",
       ".sk-estimator-doc-link,\n",
       "a:link.sk-estimator-doc-link,\n",
       "a:visited.sk-estimator-doc-link {\n",
       "  float: right;\n",
       "  font-size: smaller;\n",
       "  line-height: 1em;\n",
       "  font-family: monospace;\n",
       "  background-color: var(--sklearn-color-background);\n",
       "  border-radius: 1em;\n",
       "  height: 1em;\n",
       "  width: 1em;\n",
       "  text-decoration: none !important;\n",
       "  margin-left: 1ex;\n",
       "  /* unfitted */\n",
       "  border: var(--sklearn-color-unfitted-level-1) 1pt solid;\n",
       "  color: var(--sklearn-color-unfitted-level-1);\n",
       "}\n",
       "\n",
       ".sk-estimator-doc-link.fitted,\n",
       "a:link.sk-estimator-doc-link.fitted,\n",
       "a:visited.sk-estimator-doc-link.fitted {\n",
       "  /* fitted */\n",
       "  border: var(--sklearn-color-fitted-level-1) 1pt solid;\n",
       "  color: var(--sklearn-color-fitted-level-1);\n",
       "}\n",
       "\n",
       "/* On hover */\n",
       "div.sk-estimator:hover .sk-estimator-doc-link:hover,\n",
       ".sk-estimator-doc-link:hover,\n",
       "div.sk-label-container:hover .sk-estimator-doc-link:hover,\n",
       ".sk-estimator-doc-link:hover {\n",
       "  /* unfitted */\n",
       "  background-color: var(--sklearn-color-unfitted-level-3);\n",
       "  color: var(--sklearn-color-background);\n",
       "  text-decoration: none;\n",
       "}\n",
       "\n",
       "div.sk-estimator.fitted:hover .sk-estimator-doc-link.fitted:hover,\n",
       ".sk-estimator-doc-link.fitted:hover,\n",
       "div.sk-label-container:hover .sk-estimator-doc-link.fitted:hover,\n",
       ".sk-estimator-doc-link.fitted:hover {\n",
       "  /* fitted */\n",
       "  background-color: var(--sklearn-color-fitted-level-3);\n",
       "  color: var(--sklearn-color-background);\n",
       "  text-decoration: none;\n",
       "}\n",
       "\n",
       "/* Span, style for the box shown on hovering the info icon */\n",
       ".sk-estimator-doc-link span {\n",
       "  display: none;\n",
       "  z-index: 9999;\n",
       "  position: relative;\n",
       "  font-weight: normal;\n",
       "  right: .2ex;\n",
       "  padding: .5ex;\n",
       "  margin: .5ex;\n",
       "  width: min-content;\n",
       "  min-width: 20ex;\n",
       "  max-width: 50ex;\n",
       "  color: var(--sklearn-color-text);\n",
       "  box-shadow: 2pt 2pt 4pt #999;\n",
       "  /* unfitted */\n",
       "  background: var(--sklearn-color-unfitted-level-0);\n",
       "  border: .5pt solid var(--sklearn-color-unfitted-level-3);\n",
       "}\n",
       "\n",
       ".sk-estimator-doc-link.fitted span {\n",
       "  /* fitted */\n",
       "  background: var(--sklearn-color-fitted-level-0);\n",
       "  border: var(--sklearn-color-fitted-level-3);\n",
       "}\n",
       "\n",
       ".sk-estimator-doc-link:hover span {\n",
       "  display: block;\n",
       "}\n",
       "\n",
       "/* \"?\"-specific style due to the `<a>` HTML tag */\n",
       "\n",
       "#sk-container-id-3 a.estimator_doc_link {\n",
       "  float: right;\n",
       "  font-size: 1rem;\n",
       "  line-height: 1em;\n",
       "  font-family: monospace;\n",
       "  background-color: var(--sklearn-color-background);\n",
       "  border-radius: 1rem;\n",
       "  height: 1rem;\n",
       "  width: 1rem;\n",
       "  text-decoration: none;\n",
       "  /* unfitted */\n",
       "  color: var(--sklearn-color-unfitted-level-1);\n",
       "  border: var(--sklearn-color-unfitted-level-1) 1pt solid;\n",
       "}\n",
       "\n",
       "#sk-container-id-3 a.estimator_doc_link.fitted {\n",
       "  /* fitted */\n",
       "  border: var(--sklearn-color-fitted-level-1) 1pt solid;\n",
       "  color: var(--sklearn-color-fitted-level-1);\n",
       "}\n",
       "\n",
       "/* On hover */\n",
       "#sk-container-id-3 a.estimator_doc_link:hover {\n",
       "  /* unfitted */\n",
       "  background-color: var(--sklearn-color-unfitted-level-3);\n",
       "  color: var(--sklearn-color-background);\n",
       "  text-decoration: none;\n",
       "}\n",
       "\n",
       "#sk-container-id-3 a.estimator_doc_link.fitted:hover {\n",
       "  /* fitted */\n",
       "  background-color: var(--sklearn-color-fitted-level-3);\n",
       "}\n",
       "</style><div id=\"sk-container-id-3\" class=\"sk-top-container\"><div class=\"sk-text-repr-fallback\"><pre>Lasso(alpha=0.1)</pre><b>In a Jupyter environment, please rerun this cell to show the HTML representation or trust the notebook. <br />On GitHub, the HTML representation is unable to render, please try loading this page with nbviewer.org.</b></div><div class=\"sk-container\" hidden><div class=\"sk-item\"><div class=\"sk-estimator fitted sk-toggleable\"><input class=\"sk-toggleable__control sk-hidden--visually\" id=\"sk-estimator-id-3\" type=\"checkbox\" checked><label for=\"sk-estimator-id-3\" class=\"sk-toggleable__label fitted sk-toggleable__label-arrow fitted\">&nbsp;&nbsp;Lasso<a class=\"sk-estimator-doc-link fitted\" rel=\"noreferrer\" target=\"_blank\" href=\"https://scikit-learn.org/1.5/modules/generated/sklearn.linear_model.Lasso.html\">?<span>Documentation for Lasso</span></a><span class=\"sk-estimator-doc-link fitted\">i<span>Fitted</span></span></label><div class=\"sk-toggleable__content fitted\"><pre>Lasso(alpha=0.1)</pre></div> </div></div></div></div>"
      ]
     },
     "execution_count": 87,
     "metadata": {},
     "output_type": "execute_result"
    }
   ],
   "execution_count": 87,
   "source": [
    "from sklearn.linear_model import Lasso\n",
    "\n",
    "model = Lasso(alpha=0.1)\n",
    "model.fit(X, y_train)"
   ],
   "id": "a371c1d2f95dba65"
  },
  {
   "metadata": {
    "ExecuteTime": {
     "end_time": "2024-10-17T16:59:15.388724Z",
     "start_time": "2024-10-17T16:59:15.383006Z"
    }
   },
   "cell_type": "code",
   "source": "X_test_0.columns == X.columns",
   "id": "55d342943816f7bc",
   "outputs": [
    {
     "data": {
      "text/plain": [
       "array([ True,  True,  True,  True,  True,  True,  True,  True,  True,\n",
       "        True,  True,  True,  True,  True,  True,  True,  True,  True,\n",
       "        True,  True,  True,  True,  True,  True,  True,  True,  True,\n",
       "        True,  True,  True,  True,  True,  True,  True,  True,  True,\n",
       "        True,  True,  True,  True,  True,  True,  True,  True,  True,\n",
       "        True,  True,  True,  True,  True,  True,  True,  True,  True,\n",
       "        True,  True,  True,  True,  True,  True,  True,  True,  True,\n",
       "        True,  True,  True,  True,  True,  True,  True,  True,  True,\n",
       "        True,  True,  True,  True,  True,  True,  True,  True,  True,\n",
       "        True,  True,  True,  True,  True,  True,  True,  True,  True,\n",
       "        True,  True,  True,  True,  True,  True,  True,  True,  True,\n",
       "        True,  True,  True,  True,  True,  True,  True,  True,  True,\n",
       "        True,  True,  True,  True,  True,  True,  True,  True,  True,\n",
       "        True,  True,  True,  True,  True,  True,  True,  True,  True,\n",
       "        True,  True,  True,  True,  True,  True,  True,  True,  True,\n",
       "        True,  True,  True,  True,  True,  True,  True,  True,  True,\n",
       "        True,  True,  True,  True,  True,  True])"
      ]
     },
     "execution_count": 58,
     "metadata": {},
     "output_type": "execute_result"
    }
   ],
   "execution_count": 58
  },
  {
   "metadata": {
    "ExecuteTime": {
     "end_time": "2024-10-17T21:05:27.010860Z",
     "start_time": "2024-10-17T21:05:24.554127Z"
    }
   },
   "cell_type": "code",
   "source": [
    "from sklearn.model_selection import train_test_split\n",
    "from sklearn.preprocessing import StandardScaler\n",
    "from sklearn.linear_model import Lasso\n",
    "from sklearn.metrics import mean_squared_error\n",
    "\n",
    "# 2. Стандартизация данных\n",
    "scaler = StandardScaler()\n",
    "X_train_scaled = scaler.fit_transform(X)\n",
    "\n",
    "# 3. Обучение модели Lasso\n",
    "model = Lasso(alpha=0.1)\n",
    "model.fit(X_train_scaled, y_train)\n",
    "\n",
    "# 4. Предсказание на тестовой выборке\n",
    "y_pred = model.predict(X_test_0)"
   ],
   "id": "4230ce18ae4bd96c",
   "outputs": [
    {
     "name": "stderr",
     "output_type": "stream",
     "text": [
      "/Users/ssd/Documents/src/spb2024/allcup/venv/lib/python3.9/site-packages/sklearn/base.py:486: UserWarning: X has feature names, but Lasso was fitted without feature names\n",
      "  warnings.warn(\n"
     ]
    }
   ],
   "execution_count": 114
  },
  {
   "metadata": {
    "ExecuteTime": {
     "end_time": "2024-10-17T21:25:35.422368Z",
     "start_time": "2024-10-17T21:25:32.697181Z"
    }
   },
   "cell_type": "code",
   "source": [
    "from sklearn.decomposition import PCA\n",
    "from sklearn.preprocessing import StandardScaler\n",
    "\n",
    "# Стандартизация данных (PCA чувствителен к масштабу признаков)\n",
    "scaler = StandardScaler()\n",
    "X_scaled = scaler.fit_transform(X)\n",
    "\n",
    "# Применение PCA\n",
    "pca = PCA(n_components=0.95)  # Сохраним 95% информации\n",
    "X_pca = pca.fit_transform(X_scaled)\n"
   ],
   "id": "d4eabef50d79e6b",
   "outputs": [],
   "execution_count": 120
  },
  {
   "metadata": {
    "ExecuteTime": {
     "end_time": "2024-10-17T21:33:52.409804Z",
     "start_time": "2024-10-17T21:33:52.007288Z"
    }
   },
   "cell_type": "code",
   "source": [
    "# Стандартизация данных (PCA чувствителен к масштабу признаков)\n",
    "scaler = StandardScaler()\n",
    "X_scaled = scaler.fit_transform(test)\n",
    "\n",
    "# Применение PCA\n",
    "pca = PCA(n_components=0.95)  # Сохраним 95% информации\n",
    "X_test_pca = pca.fit_transform(X_scaled)"
   ],
   "id": "bb5a2ed6206fb0f3",
   "outputs": [],
   "execution_count": 126
  },
  {
   "metadata": {
    "ExecuteTime": {
     "end_time": "2024-10-17T20:48:51.418684Z",
     "start_time": "2024-10-17T20:48:50.990719Z"
    }
   },
   "cell_type": "code",
   "source": [
    "fig, ax = plt.subplots(figsize=(12, 6))\n",
    "sns.histplot(data = uplift_pd, x=uplift).set_title('uplift')\n",
    "plt.show()"
   ],
   "id": "97cc42582fd051b",
   "outputs": [
    {
     "ename": "NameError",
     "evalue": "name 'uplift_pd' is not defined",
     "output_type": "error",
     "traceback": [
      "\u001B[0;31m---------------------------------------------------------------------------\u001B[0m",
      "\u001B[0;31mNameError\u001B[0m                                 Traceback (most recent call last)",
      "Cell \u001B[0;32mIn[96], line 2\u001B[0m\n\u001B[1;32m      1\u001B[0m fig, ax \u001B[38;5;241m=\u001B[39m plt\u001B[38;5;241m.\u001B[39msubplots(figsize\u001B[38;5;241m=\u001B[39m(\u001B[38;5;241m12\u001B[39m, \u001B[38;5;241m6\u001B[39m))\n\u001B[0;32m----> 2\u001B[0m sns\u001B[38;5;241m.\u001B[39mhistplot(data \u001B[38;5;241m=\u001B[39m \u001B[43muplift_pd\u001B[49m, x\u001B[38;5;241m=\u001B[39muplift)\u001B[38;5;241m.\u001B[39mset_title(\u001B[38;5;124m'\u001B[39m\u001B[38;5;124muplift\u001B[39m\u001B[38;5;124m'\u001B[39m)\n\u001B[1;32m      3\u001B[0m plt\u001B[38;5;241m.\u001B[39mshow()\n",
      "\u001B[0;31mNameError\u001B[0m: name 'uplift_pd' is not defined"
     ]
    },
    {
     "data": {
      "text/plain": [
       "<Figure size 1200x600 with 1 Axes>"
      ],
      "image/png": "[encoded data removed]"
     },
     "metadata": {},
     "output_type": "display_data"
    }
   ],
   "execution_count": 96
  },
  {
   "metadata": {
    "ExecuteTime": {
     "end_time": "2024-10-16T20:02:33.908688Z",
     "start_time": "2024-10-16T20:02:33.896662Z"
    }
   },
   "cell_type": "code",
   "source": "uplift",
   "id": "2ae433c46ef949be",
   "outputs": [
    {
     "data": {
      "text/plain": [
       "array([-2.14300799e-13, -4.46143122e-13, -3.91298105e-13, ...,\n",
       "       -3.53661544e-13, -1.99618100e-13, -4.54913884e-13])"
      ]
     },
     "execution_count": 117,
     "metadata": {},
     "output_type": "execute_result"
    }
   ],
   "execution_count": 117
  },
  {
   "metadata": {
    "ExecuteTime": {
     "end_time": "2024-10-17T17:04:24.182407Z",
     "start_time": "2024-10-17T17:04:23.910862Z"
    }
   },
   "cell_type": "code",
   "source": "CsvUplift.to_csv('/Users/ssd/Downloads/uplift4.csv')",
   "id": "93e567494901dd39",
   "outputs": [],
   "execution_count": 66
  },
  {
   "metadata": {
    "ExecuteTime": {
     "end_time": "2024-10-17T20:53:18.121428Z",
     "start_time": "2024-10-17T20:53:18.111575Z"
    }
   },
   "cell_type": "code",
   "source": "CsvUplift",
   "id": "e047eb0b0377e5a1",
   "outputs": [
    {
     "data": {
      "text/plain": [
       "       successful_utilization\n",
       "0                         0.0\n",
       "1                         0.0\n",
       "2                         0.0\n",
       "3                         0.0\n",
       "4                         0.0\n",
       "...                       ...\n",
       "74308                     0.0\n",
       "74309                     0.0\n",
       "74310                     0.0\n",
       "74311                     0.0\n",
       "74312                     0.0\n",
       "\n",
       "[74313 rows x 1 columns]"
      ],
      "text/html": [
       "<div>\n",
       "<style scoped>\n",
       "    .dataframe tbody tr th:only-of-type {\n",
       "        vertical-align: middle;\n",
       "    }\n",
       "\n",
       "    .dataframe tbody tr th {\n",
       "        vertical-align: top;\n",
       "    }\n",
       "\n",
       "    .dataframe thead th {\n",
       "        text-align: right;\n",
       "    }\n",
       "</style>\n",
       "<table border=\"1\" class=\"dataframe\">\n",
       "  <thead>\n",
       "    <tr style=\"text-align: right;\">\n",
       "      <th></th>\n",
       "      <th>successful_utilization</th>\n",
       "    </tr>\n",
       "  </thead>\n",
       "  <tbody>\n",
       "    <tr>\n",
       "      <th>0</th>\n",
       "      <td>0.0</td>\n",
       "    </tr>\n",
       "    <tr>\n",
       "      <th>1</th>\n",
       "      <td>0.0</td>\n",
       "    </tr>\n",
       "    <tr>\n",
       "      <th>2</th>\n",
       "      <td>0.0</td>\n",
       "    </tr>\n",
       "    <tr>\n",
       "      <th>3</th>\n",
       "      <td>0.0</td>\n",
       "    </tr>\n",
       "    <tr>\n",
       "      <th>4</th>\n",
       "      <td>0.0</td>\n",
       "    </tr>\n",
       "    <tr>\n",
       "      <th>...</th>\n",
       "      <td>...</td>\n",
       "    </tr>\n",
       "    <tr>\n",
       "      <th>74308</th>\n",
       "      <td>0.0</td>\n",
       "    </tr>\n",
       "    <tr>\n",
       "      <th>74309</th>\n",
       "      <td>0.0</td>\n",
       "    </tr>\n",
       "    <tr>\n",
       "      <th>74310</th>\n",
       "      <td>0.0</td>\n",
       "    </tr>\n",
       "    <tr>\n",
       "      <th>74311</th>\n",
       "      <td>0.0</td>\n",
       "    </tr>\n",
       "    <tr>\n",
       "      <th>74312</th>\n",
       "      <td>0.0</td>\n",
       "    </tr>\n",
       "  </tbody>\n",
       "</table>\n",
       "<p>74313 rows × 1 columns</p>\n",
       "</div>"
      ]
     },
     "execution_count": 105,
     "metadata": {},
     "output_type": "execute_result"
    }
   ],
   "execution_count": 105
  },
  {
   "metadata": {},
   "cell_type": "code",
   "outputs": [],
   "execution_count": null,
   "source": "",
   "id": "5d3e9ac7d1c525a6"
  }
 ],
 "metadata": {
  "kernelspec": {
   "display_name": "Python 3",
   "language": "python",
   "name": "python3"
  },
  "language_info": {
   "codemirror_mode": {
    "name": "ipython",
    "version": 2
   },
   "file_extension": ".py",
   "mimetype": "text/x-python",
   "name": "python",
   "nbconvert_exporter": "python",
   "pygments_lexer": "ipython2",
   "version": "2.7.6"
  }
 },
 "nbformat": 4,
 "nbformat_minor": 5
}
